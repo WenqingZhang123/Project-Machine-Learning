{
 "cells": [
  {
   "cell_type": "code",
   "execution_count": 16,
   "id": "bfba44f3-087f-4af4-b686-32364bf3b51c",
   "metadata": {},
   "outputs": [],
   "source": [
    "from sklearn.datasets import load_boston\n",
    "from sklearn.model_selection import train_test_split\n",
    "from sklearn.preprocessing import StandardScaler\n",
    "from sklearn.linear_model import LinearRegression, SGDRegressor\n",
    "from sklearn.metrics import mean_squared_error"
   ]
  },
  {
   "cell_type": "code",
   "execution_count": 17,
   "id": "63ea482e-23f6-438c-a1ca-6798be1f8aec",
   "metadata": {},
   "outputs": [],
   "source": [
    "def linear1():\n",
    "    \"\"\"\n",
    "    Use Optimization of normal equation to predict the house price in Boston\n",
    "    :return:\n",
    "    \"\"\"\n",
    "    # 1）get the data \n",
    "    boston = load_boston()\n",
    "\n",
    "    # 2）splite the data set to train and test set \n",
    "    x_train, x_test, y_train, y_test = train_test_split(boston.data, boston.target, random_state=22)\n",
    "\n",
    "    # 3）standard\n",
    "    transfer = StandardScaler()\n",
    "    x_train = transfer.fit_transform(x_train)\n",
    "    x_test = transfer.transform(x_test)\n",
    "\n",
    "    # 4）estimator\n",
    "    estimator = LinearRegression()\n",
    "    estimator.fit(x_train, y_train)\n",
    "\n",
    "    # 5）get the model \n",
    "    print(\"Normal equation-coef is：\\n\", estimator.coef_)\n",
    "    print(\"Normal equation-intercept is：\\n\", estimator.intercept_)\n",
    "\n",
    "    # 6）model accessment\n",
    "    y_predict = estimator.predict(x_test)\n",
    "    print(\"the prediction of Boston house：\\n\", y_predict)\n",
    "    error = mean_squared_error(y_test, y_predict)\n",
    "    print(\"Normal equation-mean_squared_error is：\\n\", error)\n",
    "\n",
    "    return None"
   ]
  },
  {
   "cell_type": "code",
   "execution_count": 18,
   "id": "93d75c14-1056-4825-baa8-0f628784d640",
   "metadata": {},
   "outputs": [],
   "source": [
    "\n",
    "def linear2():\n",
    "    \"\"\"\n",
    "    Use Optimization of gradient descent to predict the house price in Boston\n",
    "    :return:\n",
    "    \"\"\"\n",
    "    # 1）get the data\n",
    "    boston = load_boston()\n",
    "    print(\"the feature number is：\\n\", boston.data.shape)\n",
    "\n",
    "    # 2）splite the data set to train and test set \n",
    "    x_train, x_test, y_train, y_test = train_test_split(boston.data, boston.target, random_state=22)\n",
    "\n",
    "    # 3）standard\n",
    "    transfer = StandardScaler()\n",
    "    x_train = transfer.fit_transform(x_train)\n",
    "    x_test = transfer.transform(x_test)\n",
    "\n",
    "    # 4）estimator\n",
    "    estimator = SGDRegressor(learning_rate=\"constant\", eta0=0.01, max_iter=10000, penalty=\"l1\")\n",
    "    # estimator = SGDRegressor()\n",
    "    estimator.fit(x_train, y_train)\n",
    "\n",
    "    # 5）get the model\n",
    "    print(\"Gradient descent-coef is：\\n\", estimator.coef_)\n",
    "    print(\"Gradient descent-intercept is：\\n\", estimator.intercept_)\n",
    "\n",
    "    # 6）model accessment\n",
    "    y_predict = estimator.predict(x_test)\n",
    "    print(\"the prediction of Boston house：\\n\", y_predict)\n",
    "    error = mean_squared_error(y_test, y_predict)\n",
    "    print(\"Gradient descent-mean_squared_error is：\\n\", error)\n",
    "\n",
    "    return None"
   ]
  },
  {
   "cell_type": "code",
   "execution_count": 19,
   "id": "6d72698c-aeba-4d6c-983d-5d70ace6bf06",
   "metadata": {},
   "outputs": [
    {
     "name": "stdout",
     "output_type": "stream",
     "text": [
      "Normal equation-coef is：\n",
      " [-0.64817766  1.14673408 -0.05949444  0.74216553 -1.95515269  2.70902585\n",
      " -0.07737374 -3.29889391  2.50267196 -1.85679269 -1.75044624  0.87341624\n",
      " -3.91336869]\n",
      "Normal equation-intercept is：\n",
      " 22.62137203166228\n",
      "the prediction of Boston house：\n",
      " [28.22944896 31.5122308  21.11612841 32.6663189  20.0023467  19.07315705\n",
      " 21.09772798 19.61400153 19.61907059 32.87611987 20.97911561 27.52898011\n",
      " 15.54701758 19.78630176 36.88641203 18.81202132  9.35912225 18.49452615\n",
      " 30.66499315 24.30184448 19.08220837 34.11391208 29.81386585 17.51775647\n",
      " 34.91026707 26.54967053 34.71035391 27.4268996  19.09095832 14.92742976\n",
      " 30.86877936 15.88271775 37.17548808  7.72101675 16.24074861 17.19211608\n",
      "  7.42140081 20.0098852  40.58481466 28.93190595 25.25404307 17.74970308\n",
      " 38.76446932  6.87996052 21.80450956 25.29110265 20.427491   20.4698034\n",
      " 17.25330064 26.12442519  8.48268143 27.50871869 30.58284841 16.56039764\n",
      "  9.38919181 35.54434377 32.29801978 21.81298945 17.60263689 22.0804256\n",
      " 23.49262401 24.10617033 20.1346492  38.5268066  24.58319594 19.78072415\n",
      " 13.93429891  6.75507808 42.03759064 21.9215625  16.91352899 22.58327744\n",
      " 40.76440704 21.3998946  36.89912238 27.19273661 20.97945544 20.37925063\n",
      " 25.3536439  22.18729123 31.13342301 20.39451125 23.99224334 31.54729547\n",
      " 26.74581308 20.90199941 29.08225233 21.98331503 26.29101202 20.17329401\n",
      " 25.49225305 24.09171045 19.90739221 16.35154974 15.25184758 18.40766132\n",
      " 24.83797801 16.61703662 20.89470344 26.70854061 20.7591883  17.88403312\n",
      " 24.28656105 23.37651493 21.64202047 36.81476219 15.86570054 21.42338732\n",
      " 32.81366203 33.74086414 20.61688336 26.88191023 22.65739323 17.35731771\n",
      " 21.67699248 21.65034728 27.66728556 25.04691687 23.73976625 14.6649641\n",
      " 15.17700342  3.81620663 29.18194848 20.68544417 22.32934783 28.01568563\n",
      " 28.58237108]\n",
      "Normal equation-mean_squared_error is：\n",
      " 20.6275137630954\n"
     ]
    }
   ],
   "source": [
    "linear1()"
   ]
  },
  {
   "cell_type": "code",
   "execution_count": 20,
   "id": "7ee6a3c4-0d12-4958-9f98-e503cf4fa7be",
   "metadata": {},
   "outputs": [
    {
     "name": "stdout",
     "output_type": "stream",
     "text": [
      "the feature number is：\n",
      " (506, 13)\n",
      "Gradient descent-coef is：\n",
      " [-0.81687476  1.33158159 -0.5257594   1.34565569 -2.24186341  2.99490397\n",
      " -0.48310598 -3.052523    2.50101372 -1.827229   -1.67796165  0.90630526\n",
      " -4.15982861]\n",
      "Gradient descent-intercept is：\n",
      " [22.75471765]\n",
      "the prediction of Boston house：\n",
      " [28.17042484 32.22963486 21.15879201 35.73908451 20.04483869 17.6210699\n",
      " 20.94345271 20.35451624 20.45729452 31.88798321 20.69189685 27.25273769\n",
      " 13.68731914 18.29512529 36.34945377 18.55482057  6.19455572 18.22695624\n",
      " 31.96210841 25.85122779 17.52145269 34.17667175 31.80747321 16.20577097\n",
      " 36.01213524 26.82575451 37.68860295 29.79975054 17.1527169  16.17083788\n",
      " 30.83051457 13.5439179  40.50309046  4.06534548 15.91645508 15.66452792\n",
      "  4.11800177 19.06101943 45.23981747 30.9204894  26.19959306 16.28656983\n",
      " 41.29017855  3.89463247 21.24581766 25.7060759  20.43634544 19.07143041\n",
      " 18.79161689 24.66298688  5.87764101 29.11240537 33.68624657 14.31008106\n",
      "  6.85439436 35.6936103  34.85504906 23.30996813 17.1207816  24.06972412\n",
      " 24.01232163 24.47498943 20.61174781 40.37980151 26.3586697  18.08830305\n",
      " 11.93261982  3.51341265 44.34034828 23.11482245 15.65422742 24.06217432\n",
      " 41.51516227 23.13623974 37.26047762 27.4862896  23.48439218 20.31627701\n",
      " 27.10264206 23.43543734 32.33259814 21.25568605 26.73863801 34.58606772\n",
      " 26.73325589 19.96861089 29.37842239 23.41808096 26.81674693 18.20909822\n",
      " 27.6297221  26.27001768 18.36460779 13.08434291 13.58604707 17.60733701\n",
      " 25.36153404 14.72020986 19.5780091  26.59424567 19.04554753 16.00538812\n",
      " 22.74646334 22.9301065  20.11809797 41.24244878 15.64591971 22.79985243\n",
      " 35.05408853 35.37021614 20.3571974  26.89430109 22.9057007  17.40690899\n",
      " 22.59481968 24.32826986 30.53188248 28.02976952 23.55685698 12.40300486\n",
      " 12.98649215  0.56525845 29.76068291 19.35193063 23.26936617 29.26162688\n",
      " 27.11806919]\n",
      "Gradient descent-mean_squared_error is：\n",
      " 23.10890884764763\n"
     ]
    }
   ],
   "source": [
    "linear2()"
   ]
  },
  {
   "cell_type": "code",
   "execution_count": null,
   "id": "49874ab4-a173-47ac-a359-250a27ec2c54",
   "metadata": {},
   "outputs": [],
   "source": []
  },
  {
   "cell_type": "code",
   "execution_count": null,
   "id": "0b894fca-0499-4b30-bdbc-2ba81e7233da",
   "metadata": {},
   "outputs": [],
   "source": []
  }
 ],
 "metadata": {
  "kernelspec": {
   "display_name": "Python 3 (ipykernel)",
   "language": "python",
   "name": "python3"
  },
  "language_info": {
   "codemirror_mode": {
    "name": "ipython",
    "version": 3
   },
   "file_extension": ".py",
   "mimetype": "text/x-python",
   "name": "python",
   "nbconvert_exporter": "python",
   "pygments_lexer": "ipython3",
   "version": "3.9.7"
  }
 },
 "nbformat": 4,
 "nbformat_minor": 5
}
