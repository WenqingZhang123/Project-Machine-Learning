{
 "cells": [
  {
   "cell_type": "code",
   "execution_count": 6,
   "id": "5dffc534-51ad-4fdc-80cd-ab51766d0b58",
   "metadata": {},
   "outputs": [],
   "source": [
    "from sklearn.datasets import fetch_20newsgroups\n",
    "from sklearn.model_selection import train_test_split\n",
    "from sklearn.naive_bayes import MultinomialNB\n",
    "from sklearn.feature_extraction.text import TfidfVectorizer"
   ]
  },
  {
   "cell_type": "code",
   "execution_count": 7,
   "id": "8364c8b0-f804-446e-a2db-0ada2987c90c",
   "metadata": {},
   "outputs": [],
   "source": [
    "def nb_news():\n",
    "    \"\"\"\n",
    "    Use naive bayes algorithm to classify the news type\n",
    "    :return:\n",
    "    \"\"\"\n",
    "    # 1）get the dataset\n",
    "    news = fetch_20newsgroups(subset=\"all\")\n",
    "\n",
    "    # 2）splite the dataset to train and test\n",
    "    x_train, x_test, y_train, y_test = train_test_split(news.data, news.target)\n",
    "\n",
    "    # 3）feature engineering: text extraction -tfidf \n",
    "    transfer = TfidfVectorizer()\n",
    "    x_train = transfer.fit_transform(x_train)\n",
    "    x_test = transfer.transform(x_test)\n",
    "\n",
    "    # 4）use naive bayes algorithm to model \n",
    "    estimator = MultinomialNB()\n",
    "    estimator.fit(x_train, y_train)\n",
    "\n",
    "    # 5）model assessment\n",
    "    # method1：compare the real target number with pridiction number\n",
    "    y_predict = estimator.predict(x_test)\n",
    "    print(\"y_predict:\\n\", y_predict)\n",
    "    print(\"the pridiction target vs real test target is:\\n\", y_test == y_predict)\n",
    "\n",
    "    # method2：get the accuracy\n",
    "    score = estimator.score(x_test, y_test)\n",
    "    print(\"The accuracy is ：\\n\", score)\n",
    "\n",
    "    return None"
   ]
  },
  {
   "cell_type": "code",
   "execution_count": 8,
   "id": "fb1c7926-1b2d-4d85-9541-02f284c14bd3",
   "metadata": {},
   "outputs": [
    {
     "name": "stdout",
     "output_type": "stream",
     "text": [
      "y_predict:\n",
      " [16  1  8 ...  3  3  4]\n",
      "the pridiction target vs real test target is:\n",
      " [False  True  True ... False  True  True]\n",
      "The accuracy is ：\n",
      " 0.8488964346349746\n"
     ]
    }
   ],
   "source": [
    "nb_news()"
   ]
  },
  {
   "cell_type": "code",
   "execution_count": null,
   "id": "880bacae-35e9-46c2-8f44-d6a228404de4",
   "metadata": {},
   "outputs": [],
   "source": []
  }
 ],
 "metadata": {
  "kernelspec": {
   "display_name": "Python 3 (ipykernel)",
   "language": "python",
   "name": "python3"
  },
  "language_info": {
   "codemirror_mode": {
    "name": "ipython",
    "version": 3
   },
   "file_extension": ".py",
   "mimetype": "text/x-python",
   "name": "python",
   "nbconvert_exporter": "python",
   "pygments_lexer": "ipython3",
   "version": "3.9.7"
  }
 },
 "nbformat": 4,
 "nbformat_minor": 5
}
