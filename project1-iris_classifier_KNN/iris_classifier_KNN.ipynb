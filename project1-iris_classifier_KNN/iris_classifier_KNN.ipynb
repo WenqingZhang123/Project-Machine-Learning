{
 "cells": [
  {
   "cell_type": "code",
   "execution_count": 1,
   "id": "098be3d6-e7b1-4b1c-9901-69439b3e5cd8",
   "metadata": {},
   "outputs": [],
   "source": [
    "from sklearn.datasets import load_iris\n",
    "from sklearn.model_selection import train_test_split\n",
    "from sklearn.preprocessing import StandardScaler\n",
    "from sklearn.neighbors import KNeighborsClassifier"
   ]
  },
  {
   "cell_type": "code",
   "execution_count": 2,
   "id": "ef9b2ed7-e5ba-48f2-a0f5-6d6fe9e5f5f2",
   "metadata": {},
   "outputs": [],
   "source": [
    "def knn_iris():\n",
    "    \"\"\"\n",
    "    use KNN to classify the iris type\n",
    "    :return:\n",
    "    \"\"\"\n",
    "    # 1）get the iris dataset\n",
    "    iris = load_iris()\n",
    "\n",
    "    # 2）splite the dataset to train and test set seperately\n",
    "    x_train, x_test, y_train, y_test = train_test_split(iris.data, iris.target, random_state=22)\n",
    "\n",
    "    # 3）feature engineer: standard\n",
    "    transfer = StandardScaler()\n",
    "    x_train = transfer.fit_transform(x_train)\n",
    "    x_test = transfer.transform(x_test)\n",
    "\n",
    "    # 4）KNN algrithm to generate model\n",
    "    estimator = KNeighborsClassifier(n_neighbors=3)\n",
    "    estimator.fit(x_train, y_train)\n",
    "\n",
    "    # 5）model assessment\n",
    "    # method1：compare the real target number with pridiction number\n",
    "    y_predict = estimator.predict(x_test)\n",
    "    print(\"y_predict:\\n\", y_predict)\n",
    "    print(\"the pridiction target vs real test target is :\\n\", y_test == y_predict)\n",
    "\n",
    "    # 方法2：get the accuracy \n",
    "    score = estimator.score(x_test, y_test)\n",
    "    print(\"The accuracy is ：\\n\", score)\n",
    "\n",
    "    return None"
   ]
  },
  {
   "cell_type": "code",
   "execution_count": 3,
   "id": "63d620b3-9194-4145-9498-aa18317a2830",
   "metadata": {},
   "outputs": [
    {
     "name": "stdout",
     "output_type": "stream",
     "text": [
      "y_predict:\n",
      " [0 2 1 2 1 1 1 2 1 0 2 1 2 2 0 2 1 1 1 1 0 2 0 1 2 0 2 2 2 2 0 0 1 1 1 0 0\n",
      " 0]\n",
      "the pridiction target vs real test target is :\n",
      " [ True  True  True  True  True  True  True  True  True  True  True  True\n",
      "  True  True  True  True  True  True False  True  True  True  True  True\n",
      "  True  True  True  True  True  True  True  True  True  True  True  True\n",
      "  True  True]\n",
      "The accuracy is ：\n",
      " 0.9736842105263158\n"
     ]
    }
   ],
   "source": [
    "knn_iris()"
   ]
  },
  {
   "cell_type": "code",
   "execution_count": null,
   "id": "aacb90f0-ba09-431a-acc2-78939fd4debd",
   "metadata": {},
   "outputs": [],
   "source": []
  }
 ],
 "metadata": {
  "kernelspec": {
   "display_name": "Python 3 (ipykernel)",
   "language": "python",
   "name": "python3"
  },
  "language_info": {
   "codemirror_mode": {
    "name": "ipython",
    "version": 3
   },
   "file_extension": ".py",
   "mimetype": "text/x-python",
   "name": "python",
   "nbconvert_exporter": "python",
   "pygments_lexer": "ipython3",
   "version": "3.7.11"
  }
 },
 "nbformat": 4,
 "nbformat_minor": 5
}
