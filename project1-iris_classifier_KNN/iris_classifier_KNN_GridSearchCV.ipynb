{
 "cells": [
  {
   "cell_type": "code",
   "execution_count": 8,
   "id": "098be3d6-e7b1-4b1c-9901-69439b3e5cd8",
   "metadata": {},
   "outputs": [],
   "source": [
    "from sklearn.datasets import load_iris\n",
    "from sklearn.model_selection import train_test_split\n",
    "from sklearn.preprocessing import StandardScaler\n",
    "from sklearn.neighbors import KNeighborsClassifier\n",
    "from sklearn.model_selection import GridSearchCV"
   ]
  },
  {
   "cell_type": "code",
   "execution_count": 9,
   "id": "ef9b2ed7-e5ba-48f2-a0f5-6d6fe9e5f5f2",
   "metadata": {},
   "outputs": [],
   "source": [
    "def knn_iris():\n",
    "    \"\"\"\n",
    "    use KNN to classify the iris type\n",
    "    :return:\n",
    "    \"\"\"\n",
    "    # 1）get the iris dataset\n",
    "    iris = load_iris()\n",
    "\n",
    "    # 2）splite the dataset to train and test set seperately\n",
    "    x_train, x_test, y_train, y_test = train_test_split(iris.data, iris.target, random_state=22)\n",
    "\n",
    "    # 3）feature engineer: standard\n",
    "    transfer = StandardScaler()\n",
    "    x_train = transfer.fit_transform(x_train)\n",
    "    x_test = transfer.transform(x_test)\n",
    "\n",
    "    # 4）KNN algrithm to generate model\n",
    "    estimator = KNeighborsClassifier(n_neighbors=3)\n",
    "    estimator.fit(x_train, y_train)\n",
    "\n",
    "    # 5）model assessment\n",
    "    # method1：compare the real target number with pridiction number\n",
    "    y_predict = estimator.predict(x_test)\n",
    "    print(\"y_predict:\\n\", y_predict)\n",
    "    print(\"the pridiction target vs real test target is :\\n\", y_test == y_predict)\n",
    "\n",
    "    # method2：get the accuracy\n",
    "    score = estimator.score(x_test, y_test)\n",
    "    print(\"The accuracy is ：\\n\", score)\n",
    "\n",
    "    return None"
   ]
  },
  {
   "cell_type": "code",
   "execution_count": 16,
   "id": "63d620b3-9194-4145-9498-aa18317a2830",
   "metadata": {},
   "outputs": [],
   "source": [
    "def knn_iris_gscv():\n",
    "    \"\"\"\n",
    "    use KNN to classify the iris type\n",
    "    :return:\n",
    "    \"\"\"\n",
    "    # 1）get the iris dataset\n",
    "    iris = load_iris()\n",
    "\n",
    "    # 2）splite the dataset to train and test set seperately\n",
    "    x_train, x_test, y_train, y_test = train_test_split(iris.data, iris.target, random_state=22)\n",
    "\n",
    "    # 3）feature engineer: standard\n",
    "    transfer = StandardScaler()\n",
    "    x_train = transfer.fit_transform(x_train)\n",
    "    x_test = transfer.transform(x_test)\n",
    "\n",
    "    # 4）KNN algrithm to generate model\n",
    "    estimator = KNeighborsClassifier()\n",
    "    \n",
    "    # add the grid search and cross validation\n",
    "    # prepare the parameters first\n",
    "    param_dict = {\"n_neighbors\": [1, 3, 5, 7, 9, 11]}\n",
    "    estimator = GridSearchCV(estimator, param_grid=param_dict, cv=10)\n",
    "    estimator.fit(x_train, y_train)\n",
    "\n",
    "    # 5）model assessment\n",
    "    # method1：compare the real target number with pridiction number\n",
    "    y_predict = estimator.predict(x_test)\n",
    "    print(\"y_predict:\\n\", y_predict)\n",
    "    print(\"the pridiction target vs real test target is :\\n\", y_test == y_predict)\n",
    "\n",
    "    # method2：get the accuracy\n",
    "    score = estimator.score(x_test, y_test)\n",
    "    print(\"The accuracy is ：\\n\", score)\n",
    "    \n",
    "    # 6)find in cross validation\n",
    "    # best_params_\n",
    "    print(\"The best parameter is ：\\n\", estimator.best_params_)\n",
    "    # best_score_\n",
    "    print(\"The best score is ：\\n\", estimator.best_score_)\n",
    "    # best_estimator_\n",
    "    print(\"The best estimator is :\\n\", estimator.best_estimator_)\n",
    "    # cv_results_\n",
    "    print(\"The cross validation is :\\n\", estimator.cv_results_)\n",
    "\n",
    "    return None"
   ]
  },
  {
   "cell_type": "code",
   "execution_count": 12,
   "id": "586b3532-6dee-494d-85bf-e7a5fd943ad6",
   "metadata": {},
   "outputs": [
    {
     "name": "stdout",
     "output_type": "stream",
     "text": [
      "y_predict:\n",
      " [0 2 1 2 1 1 1 2 1 0 2 1 2 2 0 2 1 1 1 1 0 2 0 1 2 0 2 2 2 2 0 0 1 1 1 0 0\n",
      " 0]\n",
      "the pridiction target vs real test target is :\n",
      " [ True  True  True  True  True  True  True  True  True  True  True  True\n",
      "  True  True  True  True  True  True False  True  True  True  True  True\n",
      "  True  True  True  True  True  True  True  True  True  True  True  True\n",
      "  True  True]\n",
      "The accuracy is ：\n",
      " 0.9736842105263158\n"
     ]
    }
   ],
   "source": [
    "knn_iris()"
   ]
  },
  {
   "cell_type": "code",
   "execution_count": 13,
   "id": "aacb90f0-ba09-431a-acc2-78939fd4debd",
   "metadata": {},
   "outputs": [
    {
     "name": "stdout",
     "output_type": "stream",
     "text": [
      "y_predict:\n",
      " [0 2 1 2 1 1 1 2 1 0 2 1 2 2 0 2 1 1 1 1 0 2 0 1 2 0 2 2 2 2 0 0 1 1 1 0 0\n",
      " 0]\n",
      "the pridiction target vs real test target is :\n",
      " [ True  True  True  True  True  True  True  True  True  True  True  True\n",
      "  True  True  True  True  True  True False  True  True  True  True  True\n",
      "  True  True  True  True  True  True  True  True  True  True  True  True\n",
      "  True  True]\n",
      "The accuracy is ：\n",
      " 0.9736842105263158\n",
      "The best parameter is ：\n",
      " {'n_neighbors': 3}\n",
      "The best score is ：\n",
      " 0.9553030303030303\n",
      "The best estimator is :\n",
      " KNeighborsClassifier(n_neighbors=3)\n",
      "The cross validation is :\n",
      " {'mean_fit_time': array([0.00074921, 0.00056539, 0.00046496, 0.00047016, 0.00042117,\n",
      "       0.00042408]), 'std_fit_time': array([2.95234165e-04, 1.63648651e-04, 1.23730964e-04, 1.47346463e-04,\n",
      "       9.72213113e-05, 1.01880868e-04]), 'mean_score_time': array([0.00129473, 0.0010776 , 0.00101671, 0.00083075, 0.0008127 ,\n",
      "       0.0010273 ]), 'std_score_time': array([0.00037004, 0.00015799, 0.00030356, 0.00011015, 0.00011372,\n",
      "       0.00039684]), 'param_n_neighbors': masked_array(data=[1, 3, 5, 7, 9, 11],\n",
      "             mask=[False, False, False, False, False, False],\n",
      "       fill_value='?',\n",
      "            dtype=object), 'params': [{'n_neighbors': 1}, {'n_neighbors': 3}, {'n_neighbors': 5}, {'n_neighbors': 7}, {'n_neighbors': 9}, {'n_neighbors': 11}], 'split0_test_score': array([0.91666667, 0.91666667, 1.        , 1.        , 0.91666667,\n",
      "       0.91666667]), 'split1_test_score': array([1., 1., 1., 1., 1., 1.]), 'split2_test_score': array([0.90909091, 0.90909091, 0.90909091, 0.90909091, 0.90909091,\n",
      "       0.90909091]), 'split3_test_score': array([0.90909091, 1.        , 0.90909091, 0.90909091, 0.90909091,\n",
      "       1.        ]), 'split4_test_score': array([1., 1., 1., 1., 1., 1.]), 'split5_test_score': array([0.90909091, 0.90909091, 0.90909091, 0.90909091, 0.90909091,\n",
      "       0.90909091]), 'split6_test_score': array([0.90909091, 0.90909091, 0.90909091, 1.        , 1.        ,\n",
      "       1.        ]), 'split7_test_score': array([0.90909091, 0.90909091, 0.81818182, 0.81818182, 0.81818182,\n",
      "       0.81818182]), 'split8_test_score': array([1., 1., 1., 1., 1., 1.]), 'split9_test_score': array([1., 1., 1., 1., 1., 1.]), 'mean_test_score': array([0.94621212, 0.95530303, 0.94545455, 0.95454545, 0.94621212,\n",
      "       0.95530303]), 'std_test_score': array([0.04397204, 0.0447483 , 0.06030227, 0.06098367, 0.05988683,\n",
      "       0.0604591 ]), 'rank_test_score': array([4, 1, 6, 3, 4, 1], dtype=int32)}\n"
     ]
    }
   ],
   "source": [
    "knn_iris_gscv()"
   ]
  },
  {
   "cell_type": "code",
   "execution_count": null,
   "id": "0ad57fcf-d1c7-4aea-a8ca-a6a6bd23442a",
   "metadata": {},
   "outputs": [],
   "source": []
  }
 ],
 "metadata": {
  "kernelspec": {
   "display_name": "Python 3 (ipykernel)",
   "language": "python",
   "name": "python3"
  },
  "language_info": {
   "codemirror_mode": {
    "name": "ipython",
    "version": 3
   },
   "file_extension": ".py",
   "mimetype": "text/x-python",
   "name": "python",
   "nbconvert_exporter": "python",
   "pygments_lexer": "ipython3",
   "version": "3.7.11"
  }
 },
 "nbformat": 4,
 "nbformat_minor": 5
}
