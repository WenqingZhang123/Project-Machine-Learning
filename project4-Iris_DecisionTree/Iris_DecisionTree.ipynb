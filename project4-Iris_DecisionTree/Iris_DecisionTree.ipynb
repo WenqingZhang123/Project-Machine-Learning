{
 "cells": [
  {
   "cell_type": "code",
   "execution_count": 5,
   "id": "f7e9c54e-c04b-4394-ad5a-b54844441060",
   "metadata": {},
   "outputs": [],
   "source": [
    "from sklearn.datasets import load_iris\n",
    "from sklearn.model_selection import train_test_split\n",
    "from sklearn.tree import DecisionTreeClassifier, export_graphviz"
   ]
  },
  {
   "cell_type": "code",
   "execution_count": 8,
   "id": "cf67ceea-e9db-4b4b-b0b1-0c859ebdf506",
   "metadata": {},
   "outputs": [],
   "source": [
    "def decision_iris():\n",
    "    \"\"\"\n",
    "    Use decision tree to classify iris\n",
    "    :return:\n",
    "    \"\"\"\n",
    "    # 1）get the dataset\n",
    "    iris = load_iris()\n",
    "\n",
    "    # 2）splite the dataset to train and test\n",
    "    x_train, x_test, y_train, y_test = train_test_split(iris.data, iris.target, random_state=22)\n",
    "\n",
    "    # 3）Decision Tree Classifier\n",
    "    estimator = DecisionTreeClassifier(criterion=\"entropy\")\n",
    "    estimator.fit(x_train, y_train)\n",
    "\n",
    "    # 4）model assessment\n",
    "    # method1：compare the real target number with pridiction number\n",
    "    y_predict = estimator.predict(x_test)\n",
    "    print(\"y_predict:\\n\", y_predict)\n",
    "    print(\"the pridiction target vs real test target is:\\n\", y_test == y_predict)\n",
    "\n",
    "    # method2：get the accuracy\n",
    "    score = estimator.score(x_test, y_test)\n",
    "    print(\"The accuracy is ：\\n\", score)\n",
    "\n",
    "    # visialize the decision tree\n",
    "    export_graphviz(estimator, out_file=\"iris_tree.dot\", feature_names=iris.feature_names)\n",
    "\n",
    "    return None\n"
   ]
  },
  {
   "cell_type": "code",
   "execution_count": 9,
   "id": "8182c6dd-5e3e-41e5-8776-bd30951df447",
   "metadata": {},
   "outputs": [
    {
     "name": "stdout",
     "output_type": "stream",
     "text": [
      "y_predict:\n",
      " [0 2 1 2 1 1 1 1 1 0 2 1 2 2 0 2 1 1 1 1 0 2 0 1 2 0 2 2 2 1 0 0 1 1 1 0 0\n",
      " 0]\n",
      "the pridiction target vs real test target is:\n",
      " [ True  True  True  True  True  True  True False  True  True  True  True\n",
      "  True  True  True  True  True  True False  True  True  True  True  True\n",
      "  True  True  True  True  True False  True  True  True  True  True  True\n",
      "  True  True]\n",
      "The accuracy is ：\n",
      " 0.9210526315789473\n"
     ]
    }
   ],
   "source": [
    "decision_iris()"
   ]
  },
  {
   "cell_type": "code",
   "execution_count": 10,
   "id": "129bf11b-edee-4fd5-9708-455b33eb5b38",
   "metadata": {},
   "outputs": [],
   "source": [
    "# put the data in iris_tree to this website to see the structure of the tree, http://webgraphviz.com/"
   ]
  },
  {
   "cell_type": "code",
   "execution_count": null,
   "id": "f1c3714d-6d12-4670-a46f-02f496263b4a",
   "metadata": {},
   "outputs": [],
   "source": []
  }
 ],
 "metadata": {
  "kernelspec": {
   "display_name": "Python 3 (ipykernel)",
   "language": "python",
   "name": "python3"
  },
  "language_info": {
   "codemirror_mode": {
    "name": "ipython",
    "version": 3
   },
   "file_extension": ".py",
   "mimetype": "text/x-python",
   "name": "python",
   "nbconvert_exporter": "python",
   "pygments_lexer": "ipython3",
   "version": "3.9.7"
  }
 },
 "nbformat": 4,
 "nbformat_minor": 5
}
