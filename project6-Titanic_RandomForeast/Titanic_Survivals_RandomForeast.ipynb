{
 "cells": [
  {
   "cell_type": "code",
   "execution_count": 1,
   "id": "e0485862-aacc-4136-a41c-843fc16a0b5b",
   "metadata": {},
   "outputs": [],
   "source": [
    "# the age feature may disappear in some samples"
   ]
  },
  {
   "cell_type": "code",
   "execution_count": 2,
   "id": "01cd9d06-be42-41e9-af54-9f32238f3340",
   "metadata": {},
   "outputs": [],
   "source": [
    "import pandas as pd"
   ]
  },
  {
   "cell_type": "code",
   "execution_count": 3,
   "id": "7d49dee1-57ad-4b17-835d-1260216b86e0",
   "metadata": {},
   "outputs": [],
   "source": [
    "titanic = pd.read_csv('./titanic.csv')"
   ]
  },
  {
   "cell_type": "code",
   "execution_count": 4,
   "id": "2fd31f34-0f04-40ba-b28c-19e55e4892d1",
   "metadata": {},
   "outputs": [
    {
     "data": {
      "text/html": [
       "<div>\n",
       "<style scoped>\n",
       "    .dataframe tbody tr th:only-of-type {\n",
       "        vertical-align: middle;\n",
       "    }\n",
       "\n",
       "    .dataframe tbody tr th {\n",
       "        vertical-align: top;\n",
       "    }\n",
       "\n",
       "    .dataframe thead th {\n",
       "        text-align: right;\n",
       "    }\n",
       "</style>\n",
       "<table border=\"1\" class=\"dataframe\">\n",
       "  <thead>\n",
       "    <tr style=\"text-align: right;\">\n",
       "      <th></th>\n",
       "      <th>row.names</th>\n",
       "      <th>pclass</th>\n",
       "      <th>survived</th>\n",
       "      <th>name</th>\n",
       "      <th>age</th>\n",
       "      <th>embarked</th>\n",
       "      <th>home.dest</th>\n",
       "      <th>room</th>\n",
       "      <th>ticket</th>\n",
       "      <th>boat</th>\n",
       "      <th>sex</th>\n",
       "    </tr>\n",
       "  </thead>\n",
       "  <tbody>\n",
       "    <tr>\n",
       "      <th>0</th>\n",
       "      <td>1</td>\n",
       "      <td>1st</td>\n",
       "      <td>1</td>\n",
       "      <td>Allen, Miss Elisabeth Walton</td>\n",
       "      <td>29.0000</td>\n",
       "      <td>Southampton</td>\n",
       "      <td>St Louis, MO</td>\n",
       "      <td>B-5</td>\n",
       "      <td>24160 L221</td>\n",
       "      <td>2</td>\n",
       "      <td>female</td>\n",
       "    </tr>\n",
       "    <tr>\n",
       "      <th>1</th>\n",
       "      <td>2</td>\n",
       "      <td>1st</td>\n",
       "      <td>0</td>\n",
       "      <td>Allison, Miss Helen Loraine</td>\n",
       "      <td>2.0000</td>\n",
       "      <td>Southampton</td>\n",
       "      <td>Montreal, PQ / Chesterville, ON</td>\n",
       "      <td>C26</td>\n",
       "      <td>NaN</td>\n",
       "      <td>NaN</td>\n",
       "      <td>female</td>\n",
       "    </tr>\n",
       "    <tr>\n",
       "      <th>2</th>\n",
       "      <td>3</td>\n",
       "      <td>1st</td>\n",
       "      <td>0</td>\n",
       "      <td>Allison, Mr Hudson Joshua Creighton</td>\n",
       "      <td>30.0000</td>\n",
       "      <td>Southampton</td>\n",
       "      <td>Montreal, PQ / Chesterville, ON</td>\n",
       "      <td>C26</td>\n",
       "      <td>NaN</td>\n",
       "      <td>(135)</td>\n",
       "      <td>male</td>\n",
       "    </tr>\n",
       "    <tr>\n",
       "      <th>3</th>\n",
       "      <td>4</td>\n",
       "      <td>1st</td>\n",
       "      <td>0</td>\n",
       "      <td>Allison, Mrs Hudson J.C. (Bessie Waldo Daniels)</td>\n",
       "      <td>25.0000</td>\n",
       "      <td>Southampton</td>\n",
       "      <td>Montreal, PQ / Chesterville, ON</td>\n",
       "      <td>C26</td>\n",
       "      <td>NaN</td>\n",
       "      <td>NaN</td>\n",
       "      <td>female</td>\n",
       "    </tr>\n",
       "    <tr>\n",
       "      <th>4</th>\n",
       "      <td>5</td>\n",
       "      <td>1st</td>\n",
       "      <td>1</td>\n",
       "      <td>Allison, Master Hudson Trevor</td>\n",
       "      <td>0.9167</td>\n",
       "      <td>Southampton</td>\n",
       "      <td>Montreal, PQ / Chesterville, ON</td>\n",
       "      <td>C22</td>\n",
       "      <td>NaN</td>\n",
       "      <td>11</td>\n",
       "      <td>male</td>\n",
       "    </tr>\n",
       "  </tbody>\n",
       "</table>\n",
       "</div>"
      ],
      "text/plain": [
       "   row.names pclass  survived  \\\n",
       "0          1    1st         1   \n",
       "1          2    1st         0   \n",
       "2          3    1st         0   \n",
       "3          4    1st         0   \n",
       "4          5    1st         1   \n",
       "\n",
       "                                              name      age     embarked  \\\n",
       "0                     Allen, Miss Elisabeth Walton  29.0000  Southampton   \n",
       "1                      Allison, Miss Helen Loraine   2.0000  Southampton   \n",
       "2              Allison, Mr Hudson Joshua Creighton  30.0000  Southampton   \n",
       "3  Allison, Mrs Hudson J.C. (Bessie Waldo Daniels)  25.0000  Southampton   \n",
       "4                    Allison, Master Hudson Trevor   0.9167  Southampton   \n",
       "\n",
       "                         home.dest room      ticket   boat     sex  \n",
       "0                     St Louis, MO  B-5  24160 L221      2  female  \n",
       "1  Montreal, PQ / Chesterville, ON  C26         NaN    NaN  female  \n",
       "2  Montreal, PQ / Chesterville, ON  C26         NaN  (135)    male  \n",
       "3  Montreal, PQ / Chesterville, ON  C26         NaN    NaN  female  \n",
       "4  Montreal, PQ / Chesterville, ON  C22         NaN     11    male  "
      ]
     },
     "execution_count": 4,
     "metadata": {},
     "output_type": "execute_result"
    }
   ],
   "source": [
    "titanic.head()"
   ]
  },
  {
   "cell_type": "code",
   "execution_count": 5,
   "id": "a96f0d9b-db9d-4bf1-a2c2-89d2e46c48c4",
   "metadata": {},
   "outputs": [],
   "source": [
    "# filter feature value and target value\n",
    "x = titanic[[\"pclass\", \"age\", \"sex\"]]\n",
    "y = titanic[\"survived\"]"
   ]
  },
  {
   "cell_type": "code",
   "execution_count": 6,
   "id": "c1cc16c7-ebe6-4419-89c8-2839509d1109",
   "metadata": {},
   "outputs": [
    {
     "data": {
      "text/html": [
       "<div>\n",
       "<style scoped>\n",
       "    .dataframe tbody tr th:only-of-type {\n",
       "        vertical-align: middle;\n",
       "    }\n",
       "\n",
       "    .dataframe tbody tr th {\n",
       "        vertical-align: top;\n",
       "    }\n",
       "\n",
       "    .dataframe thead th {\n",
       "        text-align: right;\n",
       "    }\n",
       "</style>\n",
       "<table border=\"1\" class=\"dataframe\">\n",
       "  <thead>\n",
       "    <tr style=\"text-align: right;\">\n",
       "      <th></th>\n",
       "      <th>pclass</th>\n",
       "      <th>age</th>\n",
       "      <th>sex</th>\n",
       "    </tr>\n",
       "  </thead>\n",
       "  <tbody>\n",
       "    <tr>\n",
       "      <th>0</th>\n",
       "      <td>1st</td>\n",
       "      <td>29.0000</td>\n",
       "      <td>female</td>\n",
       "    </tr>\n",
       "    <tr>\n",
       "      <th>1</th>\n",
       "      <td>1st</td>\n",
       "      <td>2.0000</td>\n",
       "      <td>female</td>\n",
       "    </tr>\n",
       "    <tr>\n",
       "      <th>2</th>\n",
       "      <td>1st</td>\n",
       "      <td>30.0000</td>\n",
       "      <td>male</td>\n",
       "    </tr>\n",
       "    <tr>\n",
       "      <th>3</th>\n",
       "      <td>1st</td>\n",
       "      <td>25.0000</td>\n",
       "      <td>female</td>\n",
       "    </tr>\n",
       "    <tr>\n",
       "      <th>4</th>\n",
       "      <td>1st</td>\n",
       "      <td>0.9167</td>\n",
       "      <td>male</td>\n",
       "    </tr>\n",
       "  </tbody>\n",
       "</table>\n",
       "</div>"
      ],
      "text/plain": [
       "  pclass      age     sex\n",
       "0    1st  29.0000  female\n",
       "1    1st   2.0000  female\n",
       "2    1st  30.0000    male\n",
       "3    1st  25.0000  female\n",
       "4    1st   0.9167    male"
      ]
     },
     "execution_count": 6,
     "metadata": {},
     "output_type": "execute_result"
    }
   ],
   "source": [
    "x.head()"
   ]
  },
  {
   "cell_type": "code",
   "execution_count": 7,
   "id": "e5e96e13-bd3e-482b-b79a-cefc48a5833e",
   "metadata": {},
   "outputs": [
    {
     "data": {
      "text/plain": [
       "0    1\n",
       "1    0\n",
       "2    0\n",
       "3    0\n",
       "4    1\n",
       "Name: survived, dtype: int64"
      ]
     },
     "execution_count": 7,
     "metadata": {},
     "output_type": "execute_result"
    }
   ],
   "source": [
    "y.head()"
   ]
  },
  {
   "cell_type": "code",
   "execution_count": 8,
   "id": "ffe5786f-27bb-41db-8c13-59d857af1dfe",
   "metadata": {},
   "outputs": [
    {
     "name": "stderr",
     "output_type": "stream",
     "text": [
      "/Users/zhangwenqing/opt/anaconda3/lib/python3.9/site-packages/pandas/core/generic.py:6392: SettingWithCopyWarning: \n",
      "A value is trying to be set on a copy of a slice from a DataFrame\n",
      "\n",
      "See the caveats in the documentation: https://pandas.pydata.org/pandas-docs/stable/user_guide/indexing.html#returning-a-view-versus-a-copy\n",
      "  return self._update_inplace(result)\n"
     ]
    }
   ],
   "source": [
    "# 2、clear data\n",
    "# 1）deal with the lost data, age in some samples\n",
    "x[\"age\"].fillna(x[\"age\"].mean(), inplace=True)"
   ]
  },
  {
   "cell_type": "code",
   "execution_count": 9,
   "id": "a7c95338-b90f-4d0d-8d60-e35ee97e9873",
   "metadata": {},
   "outputs": [],
   "source": [
    "# 2) convert to dictionary\n",
    "x = x.to_dict(orient=\"records\")"
   ]
  },
  {
   "cell_type": "code",
   "execution_count": 10,
   "id": "49d461be-27f0-4a22-8e5d-37bab5cbaa76",
   "metadata": {},
   "outputs": [],
   "source": [
    "from sklearn.model_selection import train_test_split\n",
    "# 3、splite the dataset to train and test\n",
    "x_train, x_test, y_train, y_test = train_test_split(x, y, random_state=22)"
   ]
  },
  {
   "cell_type": "code",
   "execution_count": 11,
   "id": "7d5b6cdb-4ce4-4614-9ca8-ff0ed5d38194",
   "metadata": {},
   "outputs": [],
   "source": [
    "# 4、feature extraction of dictionary \n",
    "from sklearn.feature_extraction import DictVectorizer\n",
    "from sklearn.tree import DecisionTreeClassifier, export_graphviz"
   ]
  },
  {
   "cell_type": "code",
   "execution_count": 12,
   "id": "3e797118-0ef4-4bd8-92f0-137f01652221",
   "metadata": {},
   "outputs": [],
   "source": [
    "transfer = DictVectorizer()\n",
    "x_train = transfer.fit_transform(x_train)\n",
    "x_test = transfer.transform(x_test)"
   ]
  },
  {
   "cell_type": "code",
   "execution_count": 13,
   "id": "1ab9b310-642b-4636-8f9c-3446df09d2ea",
   "metadata": {},
   "outputs": [
    {
     "name": "stdout",
     "output_type": "stream",
     "text": [
      "y_predict:\n",
      " [0 0 0 0 1 1 1 0 0 1 0 1 0 0 0 0 0 0 0 0 0 0 0 0 1 0 0 0 1 1 0 1 0 1 0 0 0\n",
      " 0 0 0 0 0 0 0 0 0 1 1 0 1 0 1 0 0 0 0 0 1 0 0 0 0 0 0 0 0 0 1 0 0 1 0 0 0\n",
      " 0 1 0 0 0 1 0 1 0 0 0 0 0 0 0 0 0 0 0 1 0 1 0 1 0 1 0 0 0 0 0 0 0 0 0 0 1\n",
      " 0 1 0 0 0 0 0 0 0 0 0 1 0 0 1 1 0 1 0 0 0 0 0 0 0 0 0 0 0 1 1 0 0 0 0 1 1\n",
      " 1 0 0 0 0 0 0 0 1 0 0 0 0 0 1 1 0 1 0 0 0 0 1 0 0 0 0 0 1 1 1 1 0 0 0 0 0\n",
      " 0 0 0 1 1 1 0 0 0 0 1 1 1 0 0 0 0 0 0 0 0 0 1 0 0 0 0 0 1 1 0 0 0 0 0 1 0\n",
      " 0 0 1 0 0 0 0 0 0 1 0 0 0 0 1 0 1 0 0 0 1 0 0 1 0 0 0 0 1 0 1 0 0 0 0 1 0\n",
      " 0 1 1 1 0 0 1 1 1 0 1 0 0 0 0 0 0 0 1 0 0 0 0 0 0 0 0 0 0 0 1 0 0 0 0 1 1\n",
      " 0 0 0 1 0 0 0 0 0 0 0 0 0 0 0 0 0 1 0 0 0 0 0 0 1 1 0 1 0 0 0 0 1]\n",
      "the pridiction target vs real test target is:\n",
      " 831      True\n",
      "261      True\n",
      "1210     True\n",
      "1155     True\n",
      "255      True\n",
      "        ...  \n",
      "1146     True\n",
      "1125    False\n",
      "386      True\n",
      "1025    False\n",
      "337      True\n",
      "Name: survived, Length: 329, dtype: bool\n",
      "The accuracy is ：\n",
      " 0.7811550151975684\n"
     ]
    }
   ],
   "source": [
    "# 3）dicision tree estimator\n",
    "estimator = DecisionTreeClassifier(criterion=\"entropy\", max_depth=8)\n",
    "estimator.fit(x_train, y_train)\n",
    "\n",
    "# 4）model assessment\n",
    "# method1：compare the real target number with pridiction number\n",
    "y_predict = estimator.predict(x_test)\n",
    "print(\"y_predict:\\n\", y_predict)\n",
    "print(\"the pridiction target vs real test target is:\\n\", y_test == y_predict)\n",
    "\n",
    "# method2：get the accuracy\n",
    "score = estimator.score(x_test, y_test)\n",
    "print(\"The accuracy is ：\\n\", score)\n",
    "\n",
    "# visialize the decision tree\n",
    "export_graphviz(estimator, out_file=\"titanic_tree.dot\", feature_names=transfer.get_feature_names())"
   ]
  },
  {
   "cell_type": "code",
   "execution_count": 14,
   "id": "b9375f8f-769b-44fe-a005-edd8a5fdae4a",
   "metadata": {},
   "outputs": [],
   "source": [
    "# put the data in iris_tree to this website to see the structure of the tree, http://webgraphviz.com/"
   ]
  },
  {
   "cell_type": "code",
   "execution_count": 15,
   "id": "54d5e880-d929-4988-8b93-b71967cc2138",
   "metadata": {},
   "outputs": [],
   "source": [
    "### Use random forest to predict wheather the survivals could be lived on Titanic"
   ]
  },
  {
   "cell_type": "code",
   "execution_count": 16,
   "id": "989e691a-4a74-4509-b4b0-7a90a75f1d1d",
   "metadata": {},
   "outputs": [],
   "source": [
    "from sklearn.ensemble import RandomForestClassifier\n",
    "from sklearn.model_selection import GridSearchCV"
   ]
  },
  {
   "cell_type": "code",
   "execution_count": 17,
   "id": "6971de73-6fae-40dd-8a97-cfa03fb0a0d6",
   "metadata": {},
   "outputs": [
    {
     "name": "stdout",
     "output_type": "stream",
     "text": [
      "y_predict:\n",
      " [0 0 0 0 1 1 1 0 0 1 0 0 0 0 0 0 0 0 0 0 0 0 0 0 1 0 0 0 1 1 0 1 0 1 0 0 0\n",
      " 0 0 0 0 0 0 0 0 0 1 1 0 1 0 0 0 0 0 0 0 0 0 0 0 0 0 0 0 0 0 1 0 0 1 0 0 0\n",
      " 0 1 0 0 0 1 0 1 0 0 0 0 0 0 0 0 0 0 0 1 0 1 0 1 0 1 0 0 0 0 0 0 0 0 0 0 1\n",
      " 0 1 0 0 0 0 0 0 0 0 0 1 0 0 1 1 0 1 0 0 0 0 0 0 0 0 0 0 0 1 1 0 0 0 0 1 1\n",
      " 1 0 0 0 0 0 0 0 0 0 0 0 0 0 1 1 0 1 0 0 0 0 1 0 0 0 0 0 1 1 1 1 0 0 0 0 0\n",
      " 0 0 0 1 1 1 0 0 0 0 1 1 1 0 0 0 0 0 0 0 0 0 1 0 0 0 0 0 1 1 0 0 0 0 0 1 0\n",
      " 0 0 1 0 0 0 0 0 0 1 0 0 0 0 1 0 1 0 0 0 1 0 0 1 0 0 0 0 1 0 1 0 0 0 0 1 0\n",
      " 0 1 1 1 0 0 1 1 1 0 1 0 0 0 0 0 0 0 1 0 0 0 0 0 0 0 0 0 0 0 1 0 0 0 0 1 1\n",
      " 0 0 0 1 0 0 0 0 0 0 0 0 0 0 0 0 0 1 0 0 0 0 0 0 1 1 0 1 0 0 0 0 1]\n",
      "the pridiction target vs real test target is :\n",
      " 831      True\n",
      "261      True\n",
      "1210     True\n",
      "1155     True\n",
      "255      True\n",
      "        ...  \n",
      "1146     True\n",
      "1125    False\n",
      "386      True\n",
      "1025    False\n",
      "337      True\n",
      "Name: survived, Length: 329, dtype: bool\n",
      "The accuracy is ：\n",
      " 0.7872340425531915\n",
      "The best parameter is ：\n",
      " {'max_depth': 5, 'n_estimators': 200}\n",
      "The best score is ：\n",
      " 0.8363821138211381\n",
      "The best estimator is :\n",
      " RandomForestClassifier(max_depth=5, n_estimators=200)\n",
      "The cross validation is :\n",
      " {'mean_fit_time': array([0.15141718, 0.23255078, 0.3386693 , 0.53919299, 0.83270335,\n",
      "       1.23890011, 0.13832537, 0.23013457, 0.34168228, 0.5655334 ,\n",
      "       0.91570393, 1.47415225, 0.14349206, 0.23452862, 0.35061661,\n",
      "       0.58536402, 0.97324999, 1.40042901, 0.14202952, 0.24399328,\n",
      "       0.36901458, 0.66800737, 0.92741625, 1.47138405, 0.15878344,\n",
      "       0.23443762, 0.38908378, 0.58890033, 0.9400808 , 1.48648294]), 'std_fit_time': array([0.02845269, 0.00283838, 0.01443708, 0.02296047, 0.00300167,\n",
      "       0.00804662, 0.0016991 , 0.00715168, 0.00297795, 0.00638123,\n",
      "       0.01335415, 0.04086642, 0.00357151, 0.00333066, 0.00556229,\n",
      "       0.00549612, 0.06812197, 0.02222993, 0.00161468, 0.00931818,\n",
      "       0.01807242, 0.01315489, 0.01630327, 0.09133066, 0.01944951,\n",
      "       0.00432954, 0.0099157 , 0.01982217, 0.0045187 , 0.0509341 ]), 'mean_score_time': array([0.01139267, 0.02020224, 0.02791905, 0.04480076, 0.06756274,\n",
      "       0.09934298, 0.01124756, 0.01798971, 0.02717463, 0.04402669,\n",
      "       0.07018844, 0.1143163 , 0.01135961, 0.01856263, 0.02739072,\n",
      "       0.04550115, 0.07061712, 0.10704764, 0.01130279, 0.01939909,\n",
      "       0.0289917 , 0.04675134, 0.07084759, 0.10947537, 0.01158794,\n",
      "       0.0187184 , 0.0304056 , 0.04546301, 0.07498884, 0.10935704]), 'std_score_time': array([9.88056689e-04, 9.94822281e-04, 1.88227983e-03, 1.88594547e-03,\n",
      "       1.44933019e-03, 6.89896100e-04, 2.68664088e-04, 2.86072248e-04,\n",
      "       8.89643912e-05, 4.40245026e-04, 5.95437353e-04, 7.17070953e-03,\n",
      "       5.19290273e-04, 3.42070668e-04, 3.57937837e-04, 1.59398242e-03,\n",
      "       7.38291078e-04, 1.42570467e-03, 1.51847535e-04, 6.88152633e-04,\n",
      "       2.00257532e-03, 1.44923501e-03, 5.64238420e-04, 2.66369172e-03,\n",
      "       4.04733795e-04, 4.38398299e-04, 1.97683801e-03, 5.04956154e-04,\n",
      "       4.63012517e-03, 2.42846202e-03]), 'param_max_depth': masked_array(data=[5, 5, 5, 5, 5, 5, 8, 8, 8, 8, 8, 8, 15, 15, 15, 15, 15,\n",
      "                   15, 25, 25, 25, 25, 25, 25, 30, 30, 30, 30, 30, 30],\n",
      "             mask=[False, False, False, False, False, False, False, False,\n",
      "                   False, False, False, False, False, False, False, False,\n",
      "                   False, False, False, False, False, False, False, False,\n",
      "                   False, False, False, False, False, False],\n",
      "       fill_value='?',\n",
      "            dtype=object), 'param_n_estimators': masked_array(data=[120, 200, 300, 500, 800, 1200, 120, 200, 300, 500, 800,\n",
      "                   1200, 120, 200, 300, 500, 800, 1200, 120, 200, 300,\n",
      "                   500, 800, 1200, 120, 200, 300, 500, 800, 1200],\n",
      "             mask=[False, False, False, False, False, False, False, False,\n",
      "                   False, False, False, False, False, False, False, False,\n",
      "                   False, False, False, False, False, False, False, False,\n",
      "                   False, False, False, False, False, False],\n",
      "       fill_value='?',\n",
      "            dtype=object), 'params': [{'max_depth': 5, 'n_estimators': 120}, {'max_depth': 5, 'n_estimators': 200}, {'max_depth': 5, 'n_estimators': 300}, {'max_depth': 5, 'n_estimators': 500}, {'max_depth': 5, 'n_estimators': 800}, {'max_depth': 5, 'n_estimators': 1200}, {'max_depth': 8, 'n_estimators': 120}, {'max_depth': 8, 'n_estimators': 200}, {'max_depth': 8, 'n_estimators': 300}, {'max_depth': 8, 'n_estimators': 500}, {'max_depth': 8, 'n_estimators': 800}, {'max_depth': 8, 'n_estimators': 1200}, {'max_depth': 15, 'n_estimators': 120}, {'max_depth': 15, 'n_estimators': 200}, {'max_depth': 15, 'n_estimators': 300}, {'max_depth': 15, 'n_estimators': 500}, {'max_depth': 15, 'n_estimators': 800}, {'max_depth': 15, 'n_estimators': 1200}, {'max_depth': 25, 'n_estimators': 120}, {'max_depth': 25, 'n_estimators': 200}, {'max_depth': 25, 'n_estimators': 300}, {'max_depth': 25, 'n_estimators': 500}, {'max_depth': 25, 'n_estimators': 800}, {'max_depth': 25, 'n_estimators': 1200}, {'max_depth': 30, 'n_estimators': 120}, {'max_depth': 30, 'n_estimators': 200}, {'max_depth': 30, 'n_estimators': 300}, {'max_depth': 30, 'n_estimators': 500}, {'max_depth': 30, 'n_estimators': 800}, {'max_depth': 30, 'n_estimators': 1200}], 'split0_test_score': array([0.82926829, 0.83231707, 0.82621951, 0.82621951, 0.83231707,\n",
      "       0.82621951, 0.81402439, 0.81097561, 0.80487805, 0.80487805,\n",
      "       0.81097561, 0.80792683, 0.79878049, 0.79878049, 0.80182927,\n",
      "       0.79268293, 0.79573171, 0.79268293, 0.79268293, 0.79268293,\n",
      "       0.79573171, 0.79268293, 0.79268293, 0.79573171, 0.80182927,\n",
      "       0.79268293, 0.79268293, 0.79268293, 0.79573171, 0.79573171]), 'split1_test_score': array([0.85365854, 0.85060976, 0.85060976, 0.85060976, 0.85060976,\n",
      "       0.85060976, 0.84756098, 0.85060976, 0.8445122 , 0.85365854,\n",
      "       0.85365854, 0.85365854, 0.85365854, 0.8445122 , 0.8445122 ,\n",
      "       0.85060976, 0.84756098, 0.85060976, 0.85060976, 0.85670732,\n",
      "       0.85060976, 0.85670732, 0.84756098, 0.85365854, 0.85670732,\n",
      "       0.85060976, 0.83841463, 0.85365854, 0.85365854, 0.84756098]), 'split2_test_score': array([0.82317073, 0.82621951, 0.82621951, 0.82317073, 0.82621951,\n",
      "       0.82317073, 0.80487805, 0.80487805, 0.80182927, 0.80182927,\n",
      "       0.80182927, 0.80182927, 0.79573171, 0.80487805, 0.80487805,\n",
      "       0.80182927, 0.80487805, 0.80182927, 0.80182927, 0.80182927,\n",
      "       0.80487805, 0.80182927, 0.80487805, 0.80487805, 0.80487805,\n",
      "       0.79573171, 0.80487805, 0.80182927, 0.80487805, 0.80182927]), 'mean_test_score': array([0.83536585, 0.83638211, 0.83434959, 0.83333333, 0.83638211,\n",
      "       0.83333333, 0.82215447, 0.82215447, 0.81707317, 0.82012195,\n",
      "       0.82215447, 0.82113821, 0.81605691, 0.81605691, 0.81707317,\n",
      "       0.81504065, 0.81605691, 0.81504065, 0.81504065, 0.81707317,\n",
      "       0.81707317, 0.81707317, 0.81504065, 0.81808943, 0.82113821,\n",
      "       0.81300813, 0.81199187, 0.81605691, 0.81808943, 0.81504065]), 'std_test_score': array([0.01317224, 0.01036386, 0.01149767, 0.01227952, 0.01036386,\n",
      "       0.01227952, 0.01834905, 0.02027433, 0.0194422 , 0.02374659,\n",
      "       0.02258751, 0.02312969, 0.02661748, 0.02027433, 0.0194422 ,\n",
      "       0.02542682, 0.02258751, 0.02542682, 0.02542682, 0.02827323,\n",
      "       0.02400612, 0.02827323, 0.02352812, 0.02542682, 0.02518193,\n",
      "       0.02661748, 0.01933567, 0.02684928, 0.02542682, 0.02312969]), 'rank_test_score': array([ 3,  1,  4,  5,  1,  5,  7,  7, 15, 12,  9, 11, 20, 20, 15, 24, 20,\n",
      "       24, 24, 15, 15, 15, 24, 13, 10, 29, 30, 20, 13, 24], dtype=int32)}\n"
     ]
    }
   ],
   "source": [
    "\n",
    "estimator = RandomForestClassifier()\n",
    "\n",
    "# add grid search and cross validation\n",
    "# prepare the parameters\n",
    "param_dict = {\"n_estimators\": [120,200,300,500,800,1200], \"max_depth\": [5,8,15,25,30]}\n",
    "estimator = GridSearchCV(estimator, param_grid=param_dict, cv=3)\n",
    "estimator.fit(x_train, y_train)\n",
    "\n",
    "# 5）model assessment\n",
    "# method1：compare the real target number with pridiction number\n",
    "y_predict = estimator.predict(x_test)\n",
    "print(\"y_predict:\\n\", y_predict)\n",
    "print(\"the pridiction target vs real test target is :\\n\", y_test == y_predict)\n",
    "\n",
    "# method2：get the accuracy\n",
    "score = estimator.score(x_test, y_test)\n",
    "print(\"The accuracy is ：\\n\", score)\n",
    "\n",
    "# best_params_\n",
    "print(\"The best parameter is ：\\n\", estimator.best_params_)\n",
    "# best_score_\n",
    "print(\"The best score is ：\\n\", estimator.best_score_)\n",
    "# best_estimator_\n",
    "print(\"The best estimator is :\\n\", estimator.best_estimator_)\n",
    "# cv_results_\n",
    "print(\"The cross validation is :\\n\", estimator.cv_results_)"
   ]
  },
  {
   "cell_type": "code",
   "execution_count": null,
   "id": "9db6f4af-afe5-48b9-ad47-3f882108af1a",
   "metadata": {},
   "outputs": [],
   "source": []
  }
 ],
 "metadata": {
  "kernelspec": {
   "display_name": "Python 3 (ipykernel)",
   "language": "python",
   "name": "python3"
  },
  "language_info": {
   "codemirror_mode": {
    "name": "ipython",
    "version": 3
   },
   "file_extension": ".py",
   "mimetype": "text/x-python",
   "name": "python",
   "nbconvert_exporter": "python",
   "pygments_lexer": "ipython3",
   "version": "3.9.7"
  }
 },
 "nbformat": 4,
 "nbformat_minor": 5
}
